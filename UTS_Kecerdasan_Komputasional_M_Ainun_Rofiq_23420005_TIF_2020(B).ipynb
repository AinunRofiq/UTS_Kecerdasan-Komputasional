{
  "nbformat": 4,
  "nbformat_minor": 0,
  "metadata": {
    "colab": {
      "provenance": [],
      "authorship_tag": "ABX9TyM527sishwUQnTtkzbxSemk",
      "include_colab_link": true
    },
    "kernelspec": {
      "name": "python3",
      "display_name": "Python 3"
    },
    "language_info": {
      "name": "python"
    }
  },
  "cells": [
    {
      "cell_type": "markdown",
      "metadata": {
        "id": "view-in-github",
        "colab_type": "text"
      },
      "source": [
        "<a href=\"https://colab.research.google.com/github/AinunRofiq/UTS_Kecerdasan-Komputasional/blob/main/UTS_Kecerdasan_Komputasional_M_Ainun_Rofiq_23420005_TIF_2020(B).ipynb\" target=\"_parent\"><img src=\"https://colab.research.google.com/assets/colab-badge.svg\" alt=\"Open In Colab\"/></a>"
      ]
    },
    {
      "cell_type": "code",
      "execution_count": 18,
      "metadata": {
        "id": "LvtsTiOjCFdN"
      },
      "outputs": [],
      "source": [
        "\n",
        "import matplotlib as plt\n",
        "from sklearn.datasets import make_blobs\n",
        "from sklearn.cluster import KMeans\n",
        "from sklearn.metrics import silhouette_score\n",
        "from sklearn.preprocessing import StandardScaler"
      ]
    },
    {
      "cell_type": "code",
      "source": [
        "features, true_label = make_blobs(\n",
        "    n_samples=500,\n",
        "    centers=5,\n",
        "    cluster_std=2.75,\n",
        "    random_state=42\n",
        ")"
      ],
      "metadata": {
        "id": "2J6VAHQKCvVg"
      },
      "execution_count": 19,
      "outputs": []
    },
    {
      "cell_type": "code",
      "source": [
        "features[:10]"
      ],
      "metadata": {
        "colab": {
          "base_uri": "https://localhost:8080/"
        },
        "id": "gBxGcqsrC1Mk",
        "outputId": "001bd184-eb5d-47dd-e2c8-42f6b2f5868d"
      },
      "execution_count": 20,
      "outputs": [
        {
          "output_type": "execute_result",
          "data": {
            "text/plain": [
              "array([[  4.60620021,  -0.49427984],\n",
              "       [  1.77552708,   8.1217739 ],\n",
              "       [ -1.49853686,   6.56070921],\n",
              "       [ -4.27360635,  -0.84389633],\n",
              "       [-12.02430497,  -7.84677167],\n",
              "       [  2.6313706 ,   2.56843081],\n",
              "       [ -3.66822652,  -6.18045227],\n",
              "       [  2.81751401,  10.91352694],\n",
              "       [ -1.69486686,   9.73218813],\n",
              "       [ -2.72122732,   9.95245406]])"
            ]
          },
          "metadata": {},
          "execution_count": 20
        }
      ]
    },
    {
      "cell_type": "code",
      "source": [
        "true_label[:200]"
      ],
      "metadata": {
        "colab": {
          "base_uri": "https://localhost:8080/"
        },
        "id": "iy717iC1DGAZ",
        "outputId": "2b59e6de-0fc7-4bde-ce15-8db6b6d00e93"
      },
      "execution_count": 21,
      "outputs": [
        {
          "output_type": "execute_result",
          "data": {
            "text/plain": [
              "array([1, 4, 4, 1, 2, 1, 2, 4, 0, 0, 1, 1, 1, 4, 3, 3, 1, 3, 2, 1, 4, 3,\n",
              "       2, 3, 0, 3, 0, 3, 2, 1, 0, 0, 0, 4, 4, 0, 3, 1, 3, 0, 3, 1, 0, 3,\n",
              "       0, 2, 0, 3, 2, 2, 2, 0, 4, 1, 4, 4, 4, 3, 3, 2, 2, 0, 4, 2, 0, 4,\n",
              "       4, 2, 4, 4, 1, 1, 4, 1, 4, 1, 1, 0, 3, 2, 2, 0, 1, 3, 2, 3, 1, 1,\n",
              "       0, 1, 4, 2, 1, 2, 0, 1, 0, 2, 1, 4, 4, 4, 0, 1, 0, 2, 2, 2, 2, 2,\n",
              "       4, 0, 1, 4, 2, 4, 3, 3, 2, 4, 3, 4, 4, 4, 4, 2, 0, 1, 2, 4, 1, 3,\n",
              "       4, 3, 1, 3, 2, 1, 4, 4, 2, 2, 3, 2, 2, 3, 4, 2, 3, 4, 3, 1, 0, 0,\n",
              "       0, 3, 4, 4, 2, 0, 4, 0, 2, 3, 3, 2, 3, 1, 1, 3, 1, 1, 3, 4, 2, 4,\n",
              "       0, 0, 2, 4, 0, 0, 2, 1, 3, 0, 2, 0, 0, 4, 4, 1, 4, 0, 3, 3, 3, 4,\n",
              "       3, 1])"
            ]
          },
          "metadata": {},
          "execution_count": 21
        }
      ]
    },
    {
      "cell_type": "code",
      "source": [
        "standard_skala = StandardScaler()\n",
        "skala_fitur = standard_skala.fit_transform(features)"
      ],
      "metadata": {
        "id": "asDaDN2oDUhm"
      },
      "execution_count": 22,
      "outputs": []
    },
    {
      "cell_type": "code",
      "source": [
        "skala_fitur[:10]"
      ],
      "metadata": {
        "colab": {
          "base_uri": "https://localhost:8080/"
        },
        "id": "q0C1r4fwDXfk",
        "outputId": "9b3dc35e-c0b4-484d-fea1-c9882229465a"
      },
      "execution_count": 23,
      "outputs": [
        {
          "output_type": "execute_result",
          "data": {
            "text/plain": [
              "array([[ 1.16392051, -0.5840387 ],\n",
              "       [ 0.68685922,  0.77386117],\n",
              "       [ 0.13507203,  0.5278356 ],\n",
              "       [-0.33261822, -0.63913866],\n",
              "       [-1.63886522, -1.74279979],\n",
              "       [ 0.83109693, -0.10135202],\n",
              "       [-0.23059186, -1.48018595],\n",
              "       [ 0.8624682 ,  1.21384463],\n",
              "       [ 0.10198398,  1.02766429],\n",
              "       [-0.07099143,  1.06237845]])"
            ]
          },
          "metadata": {},
          "execution_count": 23
        }
      ]
    },
    {
      "cell_type": "code",
      "source": [
        "metode_kmeans = KMeans(\n",
        "    init=\"random\", \n",
        "    n_clusters=5, \n",
        "    n_init=10, \n",
        "    max_iter=100, \n",
        "    random_state=41\n",
        "    )"
      ],
      "metadata": {
        "id": "VsATK51iDf0u"
      },
      "execution_count": 24,
      "outputs": []
    },
    {
      "cell_type": "code",
      "source": [
        "metode_kmeans.fit(skala_fitur)"
      ],
      "metadata": {
        "colab": {
          "base_uri": "https://localhost:8080/",
          "height": 75
        },
        "id": "t-NTI2uPDs6t",
        "outputId": "21e89d56-a323-4467-a454-8c9bd43ac16d"
      },
      "execution_count": 25,
      "outputs": [
        {
          "output_type": "execute_result",
          "data": {
            "text/plain": [
              "KMeans(init='random', max_iter=100, n_clusters=5, n_init=10, random_state=41)"
            ],
            "text/html": [
              "<style>#sk-container-id-2 {color: black;background-color: white;}#sk-container-id-2 pre{padding: 0;}#sk-container-id-2 div.sk-toggleable {background-color: white;}#sk-container-id-2 label.sk-toggleable__label {cursor: pointer;display: block;width: 100%;margin-bottom: 0;padding: 0.3em;box-sizing: border-box;text-align: center;}#sk-container-id-2 label.sk-toggleable__label-arrow:before {content: \"▸\";float: left;margin-right: 0.25em;color: #696969;}#sk-container-id-2 label.sk-toggleable__label-arrow:hover:before {color: black;}#sk-container-id-2 div.sk-estimator:hover label.sk-toggleable__label-arrow:before {color: black;}#sk-container-id-2 div.sk-toggleable__content {max-height: 0;max-width: 0;overflow: hidden;text-align: left;background-color: #f0f8ff;}#sk-container-id-2 div.sk-toggleable__content pre {margin: 0.2em;color: black;border-radius: 0.25em;background-color: #f0f8ff;}#sk-container-id-2 input.sk-toggleable__control:checked~div.sk-toggleable__content {max-height: 200px;max-width: 100%;overflow: auto;}#sk-container-id-2 input.sk-toggleable__control:checked~label.sk-toggleable__label-arrow:before {content: \"▾\";}#sk-container-id-2 div.sk-estimator input.sk-toggleable__control:checked~label.sk-toggleable__label {background-color: #d4ebff;}#sk-container-id-2 div.sk-label input.sk-toggleable__control:checked~label.sk-toggleable__label {background-color: #d4ebff;}#sk-container-id-2 input.sk-hidden--visually {border: 0;clip: rect(1px 1px 1px 1px);clip: rect(1px, 1px, 1px, 1px);height: 1px;margin: -1px;overflow: hidden;padding: 0;position: absolute;width: 1px;}#sk-container-id-2 div.sk-estimator {font-family: monospace;background-color: #f0f8ff;border: 1px dotted black;border-radius: 0.25em;box-sizing: border-box;margin-bottom: 0.5em;}#sk-container-id-2 div.sk-estimator:hover {background-color: #d4ebff;}#sk-container-id-2 div.sk-parallel-item::after {content: \"\";width: 100%;border-bottom: 1px solid gray;flex-grow: 1;}#sk-container-id-2 div.sk-label:hover label.sk-toggleable__label {background-color: #d4ebff;}#sk-container-id-2 div.sk-serial::before {content: \"\";position: absolute;border-left: 1px solid gray;box-sizing: border-box;top: 0;bottom: 0;left: 50%;z-index: 0;}#sk-container-id-2 div.sk-serial {display: flex;flex-direction: column;align-items: center;background-color: white;padding-right: 0.2em;padding-left: 0.2em;position: relative;}#sk-container-id-2 div.sk-item {position: relative;z-index: 1;}#sk-container-id-2 div.sk-parallel {display: flex;align-items: stretch;justify-content: center;background-color: white;position: relative;}#sk-container-id-2 div.sk-item::before, #sk-container-id-2 div.sk-parallel-item::before {content: \"\";position: absolute;border-left: 1px solid gray;box-sizing: border-box;top: 0;bottom: 0;left: 50%;z-index: -1;}#sk-container-id-2 div.sk-parallel-item {display: flex;flex-direction: column;z-index: 1;position: relative;background-color: white;}#sk-container-id-2 div.sk-parallel-item:first-child::after {align-self: flex-end;width: 50%;}#sk-container-id-2 div.sk-parallel-item:last-child::after {align-self: flex-start;width: 50%;}#sk-container-id-2 div.sk-parallel-item:only-child::after {width: 0;}#sk-container-id-2 div.sk-dashed-wrapped {border: 1px dashed gray;margin: 0 0.4em 0.5em 0.4em;box-sizing: border-box;padding-bottom: 0.4em;background-color: white;}#sk-container-id-2 div.sk-label label {font-family: monospace;font-weight: bold;display: inline-block;line-height: 1.2em;}#sk-container-id-2 div.sk-label-container {text-align: center;}#sk-container-id-2 div.sk-container {/* jupyter's `normalize.less` sets `[hidden] { display: none; }` but bootstrap.min.css set `[hidden] { display: none !important; }` so we also need the `!important` here to be able to override the default hidden behavior on the sphinx rendered scikit-learn.org. See: https://github.com/scikit-learn/scikit-learn/issues/21755 */display: inline-block !important;position: relative;}#sk-container-id-2 div.sk-text-repr-fallback {display: none;}</style><div id=\"sk-container-id-2\" class=\"sk-top-container\"><div class=\"sk-text-repr-fallback\"><pre>KMeans(init=&#x27;random&#x27;, max_iter=100, n_clusters=5, n_init=10, random_state=41)</pre><b>In a Jupyter environment, please rerun this cell to show the HTML representation or trust the notebook. <br />On GitHub, the HTML representation is unable to render, please try loading this page with nbviewer.org.</b></div><div class=\"sk-container\" hidden><div class=\"sk-item\"><div class=\"sk-estimator sk-toggleable\"><input class=\"sk-toggleable__control sk-hidden--visually\" id=\"sk-estimator-id-2\" type=\"checkbox\" checked><label for=\"sk-estimator-id-2\" class=\"sk-toggleable__label sk-toggleable__label-arrow\">KMeans</label><div class=\"sk-toggleable__content\"><pre>KMeans(init=&#x27;random&#x27;, max_iter=100, n_clusters=5, n_init=10, random_state=41)</pre></div></div></div></div></div>"
            ]
          },
          "metadata": {},
          "execution_count": 25
        }
      ]
    },
    {
      "cell_type": "code",
      "source": [
        "metode_kmeans.inertia_"
      ],
      "metadata": {
        "colab": {
          "base_uri": "https://localhost:8080/"
        },
        "id": "HxtydueODxpI",
        "outputId": "6fffe529-f34e-45bc-d88c-a9abc1040c8c"
      },
      "execution_count": 27,
      "outputs": [
        {
          "output_type": "execute_result",
          "data": {
            "text/plain": [
              "149.75563786326762"
            ]
          },
          "metadata": {},
          "execution_count": 27
        }
      ]
    },
    {
      "cell_type": "code",
      "source": [
        "metode_kmeans.cluster_centers_"
      ],
      "metadata": {
        "colab": {
          "base_uri": "https://localhost:8080/"
        },
        "id": "Yju1swJLD2B8",
        "outputId": "1903cc0a-80b1-4ad4-9622-71f5eed9dbd7"
      },
      "execution_count": 28,
      "outputs": [
        {
          "output_type": "execute_result",
          "data": {
            "text/plain": [
              "array([[-1.1829037 ,  0.66452334],\n",
              "       [-0.78356041, -1.6353245 ],\n",
              "       [-0.09727261,  1.01098652],\n",
              "       [ 0.69231723,  0.29796635],\n",
              "       [ 1.34231679, -0.29921601]])"
            ]
          },
          "metadata": {},
          "execution_count": 28
        }
      ]
    },
    {
      "cell_type": "code",
      "source": [
        "metode_kmeans.n_iter_"
      ],
      "metadata": {
        "colab": {
          "base_uri": "https://localhost:8080/"
        },
        "id": "lURrS1J6D-24",
        "outputId": "f70eae2a-b034-4b2c-a3d9-f94aa1979e35"
      },
      "execution_count": 29,
      "outputs": [
        {
          "output_type": "execute_result",
          "data": {
            "text/plain": [
              "17"
            ]
          },
          "metadata": {},
          "execution_count": 29
        }
      ]
    },
    {
      "cell_type": "code",
      "source": [
        "metode_kmeans.labels_"
      ],
      "metadata": {
        "colab": {
          "base_uri": "https://localhost:8080/"
        },
        "id": "q0tJXAj6ED7s",
        "outputId": "7176eafb-e642-498f-b294-160df1ae1fb3"
      },
      "execution_count": 30,
      "outputs": [
        {
          "output_type": "execute_result",
          "data": {
            "text/plain": [
              "array([4, 3, 2, 1, 1, 3, 1, 3, 2, 2, 4, 4, 3, 3, 0, 0, 3, 0, 1, 4, 3, 0,\n",
              "       1, 0, 2, 0, 2, 0, 1, 3, 2, 0, 3, 4, 4, 2, 0, 4, 0, 2, 0, 3, 2, 2,\n",
              "       2, 1, 2, 0, 1, 1, 1, 3, 3, 3, 3, 3, 3, 0, 0, 1, 1, 2, 3, 1, 2, 3,\n",
              "       3, 1, 4, 3, 4, 4, 3, 3, 3, 4, 4, 3, 0, 1, 1, 2, 3, 0, 1, 0, 3, 3,\n",
              "       3, 4, 3, 1, 3, 1, 2, 4, 2, 1, 4, 3, 3, 4, 2, 4, 2, 1, 1, 1, 4, 1,\n",
              "       4, 2, 4, 4, 1, 4, 0, 0, 1, 3, 0, 4, 3, 3, 3, 1, 2, 4, 1, 3, 4, 0,\n",
              "       3, 0, 4, 0, 1, 4, 2, 3, 1, 1, 0, 1, 1, 0, 3, 1, 0, 3, 2, 3, 2, 2,\n",
              "       2, 2, 2, 4, 1, 2, 3, 2, 1, 0, 0, 1, 0, 4, 3, 0, 4, 4, 0, 3, 1, 4,\n",
              "       2, 0, 1, 3, 3, 0, 1, 4, 0, 0, 1, 2, 3, 3, 4, 3, 3, 0, 0, 0, 2, 4,\n",
              "       0, 4, 3, 2, 0, 0, 3, 2, 3, 0, 3, 3, 1, 3, 0, 4, 4, 3, 2, 2, 1, 2,\n",
              "       2, 2, 2, 2, 2, 4, 4, 2, 0, 4, 3, 0, 2, 3, 1, 3, 0, 1, 2, 1, 0, 0,\n",
              "       2, 1, 4, 3, 1, 0, 2, 3, 3, 1, 3, 2, 1, 2, 4, 4, 0, 3, 4, 4, 2, 3,\n",
              "       2, 0, 1, 4, 2, 4, 0, 2, 2, 3, 3, 2, 2, 2, 4, 3, 0, 2, 1, 4, 2, 0,\n",
              "       4, 1, 4, 3, 1, 0, 2, 2, 4, 0, 4, 0, 1, 0, 4, 1, 4, 4, 1, 2, 4, 0,\n",
              "       0, 1, 4, 1, 0, 1, 1, 4, 3, 3, 1, 4, 4, 3, 1, 4, 3, 1, 0, 1, 3, 3,\n",
              "       0, 0, 3, 4, 3, 4, 2, 2, 4, 3, 4, 1, 4, 4, 4, 1, 2, 0, 2, 4, 1, 1,\n",
              "       4, 1, 3, 4, 1, 3, 2, 1, 4, 3, 2, 1, 0, 2, 4, 1, 1, 4, 4, 0, 0, 4,\n",
              "       0, 0, 4, 3, 1, 3, 3, 0, 0, 3, 2, 0, 3, 0, 2, 0, 4, 1, 3, 1, 2, 3,\n",
              "       1, 0, 1, 0, 3, 2, 2, 1, 3, 1, 4, 1, 4, 0, 3, 1, 1, 0, 3, 1, 0, 4,\n",
              "       1, 4, 2, 3, 3, 3, 2, 0, 2, 1, 0, 1, 4, 2, 4, 1, 0, 0, 0, 0, 0, 3,\n",
              "       3, 3, 2, 3, 1, 3, 4, 2, 0, 0, 0, 2, 4, 1, 3, 3, 2, 1, 0, 1, 4, 2,\n",
              "       3, 1, 0, 4, 0, 1, 2, 4, 3, 1, 0, 2, 0, 3, 3, 2, 3, 4, 3, 0, 3, 1,\n",
              "       3, 3, 3, 4, 2, 0, 0, 0, 1, 2, 4, 3, 0, 1, 3, 0], dtype=int32)"
            ]
          },
          "metadata": {},
          "execution_count": 30
        }
      ]
    },
    {
      "cell_type": "code",
      "source": [
        "import numpy as np\n",
        "import matplotlib.pyplot as plt\n",
        "import pandas as pd"
      ],
      "metadata": {
        "id": "Nols9mK9EOOH"
      },
      "execution_count": 31,
      "outputs": []
    },
    {
      "cell_type": "code",
      "source": [],
      "metadata": {
        "id": "03km6kJQEQq6"
      },
      "execution_count": null,
      "outputs": []
    },
    {
      "cell_type": "code",
      "source": [
        "color = np.array([\"Red\",\"Green\",\"Blue\",\"yellow\",\"brown\"])\n",
        "plt.subplot(1,2,2)\n",
        "plt.scatter(skala_fitur[:,0], skala_fitur[:,1], s=50, alpha=1, cmap='viridis', c=color[metode_kmeans.labels_])"
      ],
      "metadata": {
        "colab": {
          "base_uri": "https://localhost:8080/",
          "height": 482
        },
        "id": "rhB0s3d-EWkR",
        "outputId": "0d05c310-a36b-4b5c-813d-936d89f3b8b0"
      },
      "execution_count": 32,
      "outputs": [
        {
          "output_type": "stream",
          "name": "stderr",
          "text": [
            "<ipython-input-32-860e6561b51d>:3: UserWarning: No data for colormapping provided via 'c'. Parameters 'cmap' will be ignored\n",
            "  plt.scatter(skala_fitur[:,0], skala_fitur[:,1], s=50, alpha=1, cmap='viridis', c=color[metode_kmeans.labels_])\n"
          ]
        },
        {
          "output_type": "execute_result",
          "data": {
            "text/plain": [
              "<matplotlib.collections.PathCollection at 0x7f5392352b00>"
            ]
          },
          "metadata": {},
          "execution_count": 32
        },
        {
          "output_type": "display_data",
          "data": {
            "text/plain": [
              "<Figure size 640x480 with 1 Axes>"
            ],
            "image/png": "[encoded data removed]"
          },
          "metadata": {}
        }
      ]
    }
  ]
}